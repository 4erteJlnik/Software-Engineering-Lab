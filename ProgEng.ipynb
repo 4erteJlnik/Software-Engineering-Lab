{
  "nbformat": 4,
  "nbformat_minor": 0,
  "metadata": {
    "colab": {
      "provenance": [],
      "authorship_tag": "ABX9TyM+DJad8XbTaDJIQk9F6iYO"
    },
    "kernelspec": {
      "name": "python3",
      "display_name": "Python 3"
    },
    "language_info": {
      "name": "python"
    }
  },
  "cells": [
    {
      "cell_type": "code",
      "execution_count": null,
      "metadata": {
        "colab": {
          "base_uri": "https://localhost:8080/"
        },
        "id": "n0yDDZriw5Iy",
        "outputId": "ef3ec83c-c868-4c30-9368-de94478e7465"
      },
      "outputs": [
        {
          "output_type": "stream",
          "name": "stdout",
          "text": [
            "Всего символов:  173881\n",
            "Всего символов (уникальных):  60\n",
            "Всего шаблонов:  173781\n",
            "Начальная точка:\n",
            "\"  страшно билось. но на лестни- це было все тихо, точно все спали… дико и чудно показалось ему, что о \"\n",
            "н выло бы на слово в нем все ороголжал совсем не оробоворилась в нем все паз и сомоения и не вытоколла и сомсиния и в то же время совсем не солько он выло не солько в комнате, и он выл за самом простони и с тобой с нем в последней месяц воловни и с тозо же дель и сомько он волеенинного подоооти с ней не солько и стало придалилась в нем все так и возманил подооотил как бы на словок и с темегение и с каким-то не солько и подоеоали с ней не солько и стало придалилась в нем все так и возманил подооотил как бы на словок и с темегение и с каким-то не солько и подоеоали с ней не солько и стало придалилась в нем все так и возманил подооотил как бы на словок и с темегение и с каким-то не солько и подоеоали с ней не солько и стало придалилась в нем все так и возманил подооотил как бы на словок и с темегение и с каким-то не солько и подоеоали с ней не солько и стало придалилась в нем все так и возманил подооотил как бы на словок и с темегение и с каким-то не солько и подоеоали с ней не солько и с\n",
            "Готово.\n"
          ]
        }
      ],
      "source": [
        "# Загрузка большой нейронной сети LSTM и генерация текста\n",
        "import sys\n",
        "import numpy\n",
        "from keras.models import Sequential\n",
        "from keras.layers import Dense\n",
        "from keras.layers import Dropout\n",
        "from keras.layers import LSTM\n",
        "from keras.callbacks import ModelCheckpoint\n",
        "from keras.utils import to_categorical\n",
        "# from keras.utils import np_utils\n",
        "# Загрузка текста в кодировке ASCII и преобразование в нижний регистр\n",
        "filename = \"/content/sample_data/crimeandpunishment.txt\"\n",
        "raw_text = open(filename).read()\n",
        "raw_text = raw_text.lower()\n",
        "# Создание отображения уникальных символов в целые числа, а также обратного отображения\n",
        "chars = sorted(list(set(raw_text)))\n",
        "char_to_int = dict((c, i) for i, c in enumerate(chars))\n",
        "int_to_char = dict((i, c) for i, c in enumerate(chars))\n",
        "# Сводная информация о загруженных данных\n",
        "n_chars = len(raw_text)\n",
        "n_vocab = len(chars)\n",
        "print(\"Всего символов: \", n_chars)\n",
        "print(\"Всего символов (уникальных): \", n_vocab)\n",
        "# Подготовка набора данных пар вход-выход, закодированных целыми числами\n",
        "seq_length = 100\n",
        "dataX = []\n",
        "dataY = []\n",
        "for i in range(0, n_chars - seq_length, 1):\n",
        "    seq_in = raw_text[i:i + seq_length]\n",
        "    seq_out = raw_text[i + seq_length]\n",
        "    dataX.append([char_to_int[char] for char in seq_in])\n",
        "    dataY.append(char_to_int[seq_out])\n",
        "n_patterns = len(dataX)\n",
        "print(\"Всего шаблонов: \", n_patterns)\n",
        "# Изменение формы X для соответствия [образцы, временные шаги, признаки]\n",
        "X = numpy.reshape(dataX, (n_patterns, seq_length, 1))\n",
        "# Нормализация\n",
        "X = X / float(n_vocab)\n",
        "# Преобразование выходной переменной в кодировку one-hot\n",
        "y = to_categorical(dataY)\n",
        "# Определение модели LSTM\n",
        "model = Sequential()\n",
        "model.add(LSTM(256, input_shape=(X.shape[1], X.shape[2]), return_sequences=True))\n",
        "model.add(Dropout(0.2))\n",
        "model.add(LSTM(256))\n",
        "model.add(Dropout(0.2))\n",
        "model.add(Dense(y.shape[1], activation='softmax'))\n",
        "# Загрузка весов сети\n",
        "filename = \"/content/weights-improvement-17-1.8368-bigger.hdf5\"\n",
        "model.load_weights(filename)\n",
        "model.compile(loss='categorical_crossentropy', optimizer='adam')\n",
        "# Выбор случайной начальной точки\n",
        "start = numpy.random.randint(0, len(dataX)-1)\n",
        "pattern = dataX[start]\n",
        "print(\"Начальная точка:\")\n",
        "print(\"\\\"\", ''.join([int_to_char[value] for value in pattern]), \"\\\"\")\n",
        "# Генерация символов\n",
        "for i in range(1000):\n",
        "    x = numpy.reshape(pattern, (1, len(pattern), 1))\n",
        "    x = x / float(n_vocab)\n",
        "    prediction = model.predict(x, verbose=0)\n",
        "    index = numpy.argmax(prediction)\n",
        "    result = int_to_char[index]\n",
        "    seq_in = [int_to_char[value] for value in pattern]\n",
        "    sys.stdout.write(result)\n",
        "    pattern.append(index)\n",
        "    pattern = pattern[1:len(pattern)]\n",
        "print(\"\\nГотово.\")"
      ]
    },
    {
      "cell_type": "markdown",
      "source": [
        "# Новый раздел"
      ],
      "metadata": {
        "id": "HsCZZI4iyb2b"
      }
    }
  ]
}